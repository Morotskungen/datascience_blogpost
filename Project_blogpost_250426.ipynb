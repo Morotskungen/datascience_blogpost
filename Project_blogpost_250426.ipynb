{
 "cells": [
  {
   "cell_type": "markdown",
   "id": "2ab185b2-a9b5-4e94-8fac-f78c08afe58f",
   "metadata": {},
   "source": [
    "# Questions\n",
    "- How does the following factors affect the chance of getting at least one correct answer:\n",
    "- number of attempts\n",
    "- level of help\n",
    "- time spent\n",
    "- number of incorrect attempts\n"
   ]
  },
  {
   "cell_type": "code",
   "execution_count": 409,
   "id": "e6736a2e-6aff-4eeb-9598-6bbc4171aa92",
   "metadata": {},
   "outputs": [],
   "source": [
    "import numpy as np\n",
    "import pandas as pd\n",
    "import matplotlib.pyplot as plt\n",
    "import shap\n",
    "import seaborn as sns\n",
    "import os\n",
    "\n",
    "from pandasql import sqldf\n",
    "import pickle\n",
    "\n",
    "import warnings\n",
    "from datetime import datetime, timedelta, date\n",
    "import time\n",
    "import sys\n",
    "\n",
    "%matplotlib inline\n",
    "\n",
    "# Function to start timer on cell execution\n",
    "def timer_start():\n",
    "    global start\n",
    "    start = time.time()\n",
    "    print(\"Cell initiated at \" + str(datetime.now()))\n",
    "\n",
    "# Function to stop timer on cell execution\n",
    "def timer_stop():\n",
    "    stop = time.time()\n",
    "    print(\"\\nCell finished at \" +str(datetime.now()) +\", execution time: \" + str(timedelta(seconds = stop - start)))\n"
   ]
  },
  {
   "cell_type": "code",
   "execution_count": 410,
   "id": "9eddb8ee-aa6d-4444-b3a7-90ce1fb2d195",
   "metadata": {},
   "outputs": [
    {
     "name": "stdout",
     "output_type": "stream",
     "text": [
      "C:\\Users\\fales\\Dropbox\\Studier\\Python\\Data_scientist_nd\\course_2\\datascience_blogpost\n"
     ]
    }
   ],
   "source": [
    "print(os.getcwd())"
   ]
  },
  {
   "cell_type": "markdown",
   "id": "2892e5b0-05ec-4f84-ad2f-6258af496cad",
   "metadata": {},
   "source": [
    "# Exploratory phase\n",
    "- Data is imported.\n",
    "- Dataframe with relevant features is created.\n",
    "- Missing values are dealt with.\n",
    "- New cleaned dataframe is created with combination of sission id and step as unique identifier. "
   ]
  },
  {
   "cell_type": "code",
   "execution_count": 412,
   "id": "0ed0d508-41f3-459d-9d01-e905e853b7dc",
   "metadata": {},
   "outputs": [],
   "source": [
    "from zipfile import ZipFile\n",
    "ZipFile(\"data/ds185_tx_All_Data_508_2015_0729_201849.zip\").extractall(\"data/\")"
   ]
  },
  {
   "cell_type": "code",
   "execution_count": 413,
   "id": "029dd04d-6571-413a-b211-6efa2bf04267",
   "metadata": {},
   "outputs": [
    {
     "name": "stdout",
     "output_type": "stream",
     "text": [
      "Cell initiated at 2025-04-26 19:00:28.547141\n",
      "\n",
      "Cell finished at 2025-04-26 19:00:37.110129, execution time: 0:00:08.562987\n"
     ]
    }
   ],
   "source": [
    "# Note: This file is too large to be stored in my Git profile and DataShop doesn't provide a path. Therefore it need to first be imported manuall from \n",
    "# https://pslcdatashop.web.cmu.edu/Export?datasetId=185\n",
    "# The code below assumes the file has been downloaded and saved into the data-folder\n",
    "\n",
    "timer_start()\n",
    "\n",
    "df_raw = pd.read_csv('data/ds185_tx_All_Data_508_2015_0729_201849.txt', delimiter = \"\\t\", low_memory=False)\n",
    "\n",
    "timer_stop()\n"
   ]
  },
  {
   "cell_type": "code",
   "execution_count": 414,
   "id": "03341f8b-aa34-4538-996b-33f7e18fbf42",
   "metadata": {},
   "outputs": [
    {
     "data": {
      "text/html": [
       "<div>\n",
       "<style scoped>\n",
       "    .dataframe tbody tr th:only-of-type {\n",
       "        vertical-align: middle;\n",
       "    }\n",
       "\n",
       "    .dataframe tbody tr th {\n",
       "        vertical-align: top;\n",
       "    }\n",
       "\n",
       "    .dataframe thead th {\n",
       "        text-align: right;\n",
       "    }\n",
       "</style>\n",
       "<table border=\"1\" class=\"dataframe\">\n",
       "  <thead>\n",
       "    <tr style=\"text-align: right;\">\n",
       "      <th></th>\n",
       "      <th>Row</th>\n",
       "      <th>Sample Name</th>\n",
       "      <th>Transaction Id</th>\n",
       "      <th>Anon Student Id</th>\n",
       "      <th>Session Id</th>\n",
       "      <th>Time</th>\n",
       "      <th>Time Zone</th>\n",
       "      <th>Duration (sec)</th>\n",
       "      <th>Student Response Type</th>\n",
       "      <th>Student Response Subtype</th>\n",
       "      <th>...</th>\n",
       "      <th>KC Category (Default).1</th>\n",
       "      <th>KC (Default).2</th>\n",
       "      <th>KC Category (Default).2</th>\n",
       "      <th>KC (Single-KC)</th>\n",
       "      <th>KC Category (Single-KC)</th>\n",
       "      <th>KC (Unique-step)</th>\n",
       "      <th>KC Category (Unique-step)</th>\n",
       "      <th>School</th>\n",
       "      <th>Class</th>\n",
       "      <th>CF (media message)</th>\n",
       "    </tr>\n",
       "  </thead>\n",
       "  <tbody>\n",
       "    <tr>\n",
       "      <th>0</th>\n",
       "      <td>1</td>\n",
       "      <td>All Data</td>\n",
       "      <td>a23c03d186dd18c7ee5c1f07f554420f</td>\n",
       "      <td>Stu_0078be3c7f5c3c58978ccbf06819f2a8</td>\n",
       "      <td>ec2139a880020c6801caba5cbbaa0dc4</td>\n",
       "      <td>2012-01-17 14:46:33</td>\n",
       "      <td>UTC</td>\n",
       "      <td>5</td>\n",
       "      <td>ATTEMPT</td>\n",
       "      <td>NaN</td>\n",
       "      <td>...</td>\n",
       "      <td>multiple_selection</td>\n",
       "      <td>pinyin_recognition</td>\n",
       "      <td>multiple_selection</td>\n",
       "      <td>Single-KC</td>\n",
       "      <td>NaN</td>\n",
       "      <td>KC60</td>\n",
       "      <td>NaN</td>\n",
       "      <td>Carnegie Mellon University</td>\n",
       "      <td>134longnian</td>\n",
       "      <td>NaN</td>\n",
       "    </tr>\n",
       "    <tr>\n",
       "      <th>1</th>\n",
       "      <td>2</td>\n",
       "      <td>All Data</td>\n",
       "      <td>599cf61fbc1c7887a72e9efec7132161</td>\n",
       "      <td>Stu_0078be3c7f5c3c58978ccbf06819f2a8</td>\n",
       "      <td>ec2139a880020c6801caba5cbbaa0dc4</td>\n",
       "      <td>2012-01-17 14:46:58</td>\n",
       "      <td>UTC</td>\n",
       "      <td>0.5</td>\n",
       "      <td>VIDEO_ACTION</td>\n",
       "      <td>NaN</td>\n",
       "      <td>...</td>\n",
       "      <td>NaN</td>\n",
       "      <td>NaN</td>\n",
       "      <td>NaN</td>\n",
       "      <td>NaN</td>\n",
       "      <td>NaN</td>\n",
       "      <td>NaN</td>\n",
       "      <td>NaN</td>\n",
       "      <td>Carnegie Mellon University</td>\n",
       "      <td>134longnian</td>\n",
       "      <td>Stop the video.</td>\n",
       "    </tr>\n",
       "    <tr>\n",
       "      <th>2</th>\n",
       "      <td>3</td>\n",
       "      <td>All Data</td>\n",
       "      <td>8aa1c7d235beec3f8bdd7013f2bf953c</td>\n",
       "      <td>Stu_0078be3c7f5c3c58978ccbf06819f2a8</td>\n",
       "      <td>ec2139a880020c6801caba5cbbaa0dc4</td>\n",
       "      <td>2012-01-17 14:46:58</td>\n",
       "      <td>UTC</td>\n",
       "      <td>0.5</td>\n",
       "      <td>VIDEO_ACTION</td>\n",
       "      <td>NaN</td>\n",
       "      <td>...</td>\n",
       "      <td>NaN</td>\n",
       "      <td>NaN</td>\n",
       "      <td>NaN</td>\n",
       "      <td>NaN</td>\n",
       "      <td>NaN</td>\n",
       "      <td>NaN</td>\n",
       "      <td>NaN</td>\n",
       "      <td>Carnegie Mellon University</td>\n",
       "      <td>134longnian</td>\n",
       "      <td>Stop the video.</td>\n",
       "    </tr>\n",
       "    <tr>\n",
       "      <th>3</th>\n",
       "      <td>4</td>\n",
       "      <td>All Data</td>\n",
       "      <td>02a5fbe8a0ea56d9d0ea3e41e5e27200</td>\n",
       "      <td>Stu_0078be3c7f5c3c58978ccbf06819f2a8</td>\n",
       "      <td>f409b55580020c6801bbb41756dbadb4</td>\n",
       "      <td>2012-01-19 03:38:06</td>\n",
       "      <td>UTC</td>\n",
       "      <td>0.5</td>\n",
       "      <td>VIDEO_ACTION</td>\n",
       "      <td>NaN</td>\n",
       "      <td>...</td>\n",
       "      <td>NaN</td>\n",
       "      <td>NaN</td>\n",
       "      <td>NaN</td>\n",
       "      <td>NaN</td>\n",
       "      <td>NaN</td>\n",
       "      <td>NaN</td>\n",
       "      <td>NaN</td>\n",
       "      <td>Carnegie Mellon University</td>\n",
       "      <td>134longnian</td>\n",
       "      <td>Stop the video.</td>\n",
       "    </tr>\n",
       "    <tr>\n",
       "      <th>4</th>\n",
       "      <td>5</td>\n",
       "      <td>All Data</td>\n",
       "      <td>e15764f18e1abb07b7857d2b73caca36</td>\n",
       "      <td>Stu_0078be3c7f5c3c58978ccbf06819f2a8</td>\n",
       "      <td>f409b55580020c6801bbb41756dbadb4</td>\n",
       "      <td>2012-01-19 03:38:06</td>\n",
       "      <td>UTC</td>\n",
       "      <td>0.5</td>\n",
       "      <td>VIDEO_ACTION</td>\n",
       "      <td>NaN</td>\n",
       "      <td>...</td>\n",
       "      <td>NaN</td>\n",
       "      <td>NaN</td>\n",
       "      <td>NaN</td>\n",
       "      <td>NaN</td>\n",
       "      <td>NaN</td>\n",
       "      <td>NaN</td>\n",
       "      <td>NaN</td>\n",
       "      <td>Carnegie Mellon University</td>\n",
       "      <td>134longnian</td>\n",
       "      <td>Stop the video.</td>\n",
       "    </tr>\n",
       "  </tbody>\n",
       "</table>\n",
       "<p>5 rows × 45 columns</p>\n",
       "</div>"
      ],
      "text/plain": [
       "   Row Sample Name                    Transaction Id  \\\n",
       "0    1    All Data  a23c03d186dd18c7ee5c1f07f554420f   \n",
       "1    2    All Data  599cf61fbc1c7887a72e9efec7132161   \n",
       "2    3    All Data  8aa1c7d235beec3f8bdd7013f2bf953c   \n",
       "3    4    All Data  02a5fbe8a0ea56d9d0ea3e41e5e27200   \n",
       "4    5    All Data  e15764f18e1abb07b7857d2b73caca36   \n",
       "\n",
       "                        Anon Student Id                        Session Id  \\\n",
       "0  Stu_0078be3c7f5c3c58978ccbf06819f2a8  ec2139a880020c6801caba5cbbaa0dc4   \n",
       "1  Stu_0078be3c7f5c3c58978ccbf06819f2a8  ec2139a880020c6801caba5cbbaa0dc4   \n",
       "2  Stu_0078be3c7f5c3c58978ccbf06819f2a8  ec2139a880020c6801caba5cbbaa0dc4   \n",
       "3  Stu_0078be3c7f5c3c58978ccbf06819f2a8  f409b55580020c6801bbb41756dbadb4   \n",
       "4  Stu_0078be3c7f5c3c58978ccbf06819f2a8  f409b55580020c6801bbb41756dbadb4   \n",
       "\n",
       "                  Time Time Zone Duration (sec) Student Response Type  \\\n",
       "0  2012-01-17 14:46:33       UTC              5               ATTEMPT   \n",
       "1  2012-01-17 14:46:58       UTC            0.5          VIDEO_ACTION   \n",
       "2  2012-01-17 14:46:58       UTC            0.5          VIDEO_ACTION   \n",
       "3  2012-01-19 03:38:06       UTC            0.5          VIDEO_ACTION   \n",
       "4  2012-01-19 03:38:06       UTC            0.5          VIDEO_ACTION   \n",
       "\n",
       "   Student Response Subtype  ... KC Category (Default).1      KC (Default).2  \\\n",
       "0                       NaN  ...      multiple_selection  pinyin_recognition   \n",
       "1                       NaN  ...                     NaN                 NaN   \n",
       "2                       NaN  ...                     NaN                 NaN   \n",
       "3                       NaN  ...                     NaN                 NaN   \n",
       "4                       NaN  ...                     NaN                 NaN   \n",
       "\n",
       "  KC Category (Default).2 KC (Single-KC) KC Category (Single-KC)  \\\n",
       "0      multiple_selection      Single-KC                     NaN   \n",
       "1                     NaN            NaN                     NaN   \n",
       "2                     NaN            NaN                     NaN   \n",
       "3                     NaN            NaN                     NaN   \n",
       "4                     NaN            NaN                     NaN   \n",
       "\n",
       "   KC (Unique-step) KC Category (Unique-step)                      School  \\\n",
       "0              KC60                       NaN  Carnegie Mellon University   \n",
       "1               NaN                       NaN  Carnegie Mellon University   \n",
       "2               NaN                       NaN  Carnegie Mellon University   \n",
       "3               NaN                       NaN  Carnegie Mellon University   \n",
       "4               NaN                       NaN  Carnegie Mellon University   \n",
       "\n",
       "         Class  CF (media message)  \n",
       "0  134longnian                 NaN  \n",
       "1  134longnian     Stop the video.  \n",
       "2  134longnian     Stop the video.  \n",
       "3  134longnian     Stop the video.  \n",
       "4  134longnian     Stop the video.  \n",
       "\n",
       "[5 rows x 45 columns]"
      ]
     },
     "execution_count": 414,
     "metadata": {},
     "output_type": "execute_result"
    }
   ],
   "source": [
    "df_raw.head()"
   ]
  },
  {
   "cell_type": "code",
   "execution_count": 415,
   "id": "2946d327-efe1-4aa9-9d77-1a864549e3c9",
   "metadata": {},
   "outputs": [],
   "source": [
    "# Making a copy of dataframe in order to avoid reading textfile multiple times\n",
    "df = df_raw.copy()"
   ]
  },
  {
   "cell_type": "markdown",
   "id": "22b02999-41f0-42ad-a848-9268da6e8348",
   "metadata": {},
   "source": [
    "### Observation\n",
    "Only a few of these features are relevant for this analysis. \n",
    "\n",
    "### Action\n",
    "Create new dataframe keeping only relevant features."
   ]
  },
  {
   "cell_type": "code",
   "execution_count": 417,
   "id": "b4965e61-aebc-4583-b5f2-0185d068088f",
   "metadata": {},
   "outputs": [],
   "source": [
    "# creating a new dataframe with the columns needed for this analysis\n",
    "df = df[['Session Id', 'Duration (sec)', 'Student Response Type', 'Tutor Response Type', 'Attempt At Step', 'Is Last Attempt', 'Outcome', 'Help Level', 'Total Num Hints', 'KC (Unique-step)']]"
   ]
  },
  {
   "cell_type": "code",
   "execution_count": 418,
   "id": "d3d75a67-0ada-4c49-8070-00c687020629",
   "metadata": {},
   "outputs": [
    {
     "data": {
      "text/html": [
       "<div>\n",
       "<style scoped>\n",
       "    .dataframe tbody tr th:only-of-type {\n",
       "        vertical-align: middle;\n",
       "    }\n",
       "\n",
       "    .dataframe tbody tr th {\n",
       "        vertical-align: top;\n",
       "    }\n",
       "\n",
       "    .dataframe thead th {\n",
       "        text-align: right;\n",
       "    }\n",
       "</style>\n",
       "<table border=\"1\" class=\"dataframe\">\n",
       "  <thead>\n",
       "    <tr style=\"text-align: right;\">\n",
       "      <th></th>\n",
       "      <th>session_id</th>\n",
       "      <th>duration</th>\n",
       "      <th>student_response</th>\n",
       "      <th>tutor_response</th>\n",
       "      <th>attempt</th>\n",
       "      <th>last_attempt</th>\n",
       "      <th>outcome</th>\n",
       "      <th>help_level</th>\n",
       "      <th>hints</th>\n",
       "      <th>step</th>\n",
       "    </tr>\n",
       "  </thead>\n",
       "  <tbody>\n",
       "    <tr>\n",
       "      <th>0</th>\n",
       "      <td>ec2139a880020c6801caba5cbbaa0dc4</td>\n",
       "      <td>5</td>\n",
       "      <td>ATTEMPT</td>\n",
       "      <td>RESULT</td>\n",
       "      <td>1.0</td>\n",
       "      <td>1.0</td>\n",
       "      <td>CORRECT</td>\n",
       "      <td>NaN</td>\n",
       "      <td>NaN</td>\n",
       "      <td>KC60</td>\n",
       "    </tr>\n",
       "    <tr>\n",
       "      <th>1</th>\n",
       "      <td>ec2139a880020c6801caba5cbbaa0dc4</td>\n",
       "      <td>0.5</td>\n",
       "      <td>VIDEO_ACTION</td>\n",
       "      <td>NaN</td>\n",
       "      <td>NaN</td>\n",
       "      <td>NaN</td>\n",
       "      <td>NaN</td>\n",
       "      <td>NaN</td>\n",
       "      <td>NaN</td>\n",
       "      <td>NaN</td>\n",
       "    </tr>\n",
       "    <tr>\n",
       "      <th>2</th>\n",
       "      <td>ec2139a880020c6801caba5cbbaa0dc4</td>\n",
       "      <td>0.5</td>\n",
       "      <td>VIDEO_ACTION</td>\n",
       "      <td>NaN</td>\n",
       "      <td>NaN</td>\n",
       "      <td>NaN</td>\n",
       "      <td>NaN</td>\n",
       "      <td>NaN</td>\n",
       "      <td>NaN</td>\n",
       "      <td>NaN</td>\n",
       "    </tr>\n",
       "    <tr>\n",
       "      <th>3</th>\n",
       "      <td>f409b55580020c6801bbb41756dbadb4</td>\n",
       "      <td>0.5</td>\n",
       "      <td>VIDEO_ACTION</td>\n",
       "      <td>NaN</td>\n",
       "      <td>NaN</td>\n",
       "      <td>NaN</td>\n",
       "      <td>NaN</td>\n",
       "      <td>NaN</td>\n",
       "      <td>NaN</td>\n",
       "      <td>NaN</td>\n",
       "    </tr>\n",
       "    <tr>\n",
       "      <th>4</th>\n",
       "      <td>f409b55580020c6801bbb41756dbadb4</td>\n",
       "      <td>0.5</td>\n",
       "      <td>VIDEO_ACTION</td>\n",
       "      <td>NaN</td>\n",
       "      <td>NaN</td>\n",
       "      <td>NaN</td>\n",
       "      <td>NaN</td>\n",
       "      <td>NaN</td>\n",
       "      <td>NaN</td>\n",
       "      <td>NaN</td>\n",
       "    </tr>\n",
       "  </tbody>\n",
       "</table>\n",
       "</div>"
      ],
      "text/plain": [
       "                         session_id duration student_response tutor_response  \\\n",
       "0  ec2139a880020c6801caba5cbbaa0dc4        5          ATTEMPT         RESULT   \n",
       "1  ec2139a880020c6801caba5cbbaa0dc4      0.5     VIDEO_ACTION            NaN   \n",
       "2  ec2139a880020c6801caba5cbbaa0dc4      0.5     VIDEO_ACTION            NaN   \n",
       "3  f409b55580020c6801bbb41756dbadb4      0.5     VIDEO_ACTION            NaN   \n",
       "4  f409b55580020c6801bbb41756dbadb4      0.5     VIDEO_ACTION            NaN   \n",
       "\n",
       "   attempt  last_attempt  outcome  help_level  hints  step  \n",
       "0      1.0           1.0  CORRECT         NaN    NaN  KC60  \n",
       "1      NaN           NaN      NaN         NaN    NaN   NaN  \n",
       "2      NaN           NaN      NaN         NaN    NaN   NaN  \n",
       "3      NaN           NaN      NaN         NaN    NaN   NaN  \n",
       "4      NaN           NaN      NaN         NaN    NaN   NaN  "
      ]
     },
     "execution_count": 418,
     "metadata": {},
     "output_type": "execute_result"
    }
   ],
   "source": [
    "# renaming columns where spaces are removed to enable sql select and shortening names for easier presentation\n",
    "df.rename(columns={\"Session Id\": \"session_id\", \"Duration (sec)\": \"duration\", \"Student Response Type\": \"student_response\", \"Tutor Response Type\": \"tutor_response\"\n",
    "                  , \"Attempt At Step\": \"attempt\", \"Is Last Attempt\": \"last_attempt\", \"Outcome\": \"outcome\", \"Help Level\": \"help_level\", \"Total Num Hints\": \"hints\"\n",
    "                   , \"KC (Unique-step)\": \"step\"}, inplace = True)\n",
    "\n",
    "df.head()"
   ]
  },
  {
   "cell_type": "code",
   "execution_count": 419,
   "id": "6b3fe2c1-d515-48aa-b36e-83a000796ff3",
   "metadata": {},
   "outputs": [
    {
     "data": {
      "image/png": "[encoded data removed]",
      "text/plain": [
       "<Figure size 640x480 with 1 Axes>"
      ]
     },
     "metadata": {},
     "output_type": "display_data"
    }
   ],
   "source": [
    "# Checking  nullvalues\n",
    "def plot_null(df: pd.DataFrame):\n",
    "    \n",
    "\n",
    "    na_df = (df.isnull().sum() / len(df)) * 100      \n",
    "    na_df = na_df.sort_values(ascending=False)\n",
    "    missing_data = pd.DataFrame({'Missing Ratio %' :na_df})\n",
    "    missing_data.plot(kind = \"barh\")\n",
    "    plt.title('Share of nullvalues per column in dataframe')\n",
    "    plt.xlim(0, 100)\n",
    "    plt.show()\n",
    "        \n",
    "plot_null(df)"
   ]
  },
  {
   "cell_type": "code",
   "execution_count": 420,
   "id": "9163d600-610a-48bc-8a7d-3e3e7b59fd87",
   "metadata": {},
   "outputs": [],
   "source": [
    "# change type for 'Duration (sec)' and replace . with 0\n",
    "df['duration'] = df['duration'].astype(\"string\")\n",
    "\n",
    "df['duration'] = df['duration'].replace(['.'], '0')\n",
    "\n",
    "df['duration'] = df['duration'].astype(\"float\")"
   ]
  },
  {
   "cell_type": "markdown",
   "id": "a5366f45-4fdf-45b4-aaad-89e0ef2dc62b",
   "metadata": {},
   "source": [
    "### Observation\n",
    "A lot of null values here. \n",
    "\n",
    "### Action\n",
    "For numeric features these will be replaced with 0 and for others 'missing'."
   ]
  },
  {
   "cell_type": "code",
   "execution_count": 422,
   "id": "28919d49-a5c5-4d87-8fdb-9f1dc73e57a8",
   "metadata": {},
   "outputs": [
    {
     "name": "stdout",
     "output_type": "stream",
     "text": [
      "Number of features: 10\n"
     ]
    },
    {
     "data": {
      "text/html": [
       "<div>\n",
       "<style scoped>\n",
       "    .dataframe tbody tr th:only-of-type {\n",
       "        vertical-align: middle;\n",
       "    }\n",
       "\n",
       "    .dataframe tbody tr th {\n",
       "        vertical-align: top;\n",
       "    }\n",
       "\n",
       "    .dataframe thead th {\n",
       "        text-align: right;\n",
       "    }\n",
       "</style>\n",
       "<table border=\"1\" class=\"dataframe\">\n",
       "  <thead>\n",
       "    <tr style=\"text-align: right;\">\n",
       "      <th></th>\n",
       "      <th>feature</th>\n",
       "      <th>type</th>\n",
       "      <th>unique_values</th>\n",
       "      <th>unique_examples</th>\n",
       "      <th>number</th>\n",
       "      <th>categorical</th>\n",
       "    </tr>\n",
       "  </thead>\n",
       "  <tbody>\n",
       "    <tr>\n",
       "      <th>0</th>\n",
       "      <td>session_id</td>\n",
       "      <td>object</td>\n",
       "      <td>3655</td>\n",
       "      <td>[ec2139a880020c6801caba5cbbaa0dc4, f409b555800...</td>\n",
       "      <td>0</td>\n",
       "      <td>1</td>\n",
       "    </tr>\n",
       "    <tr>\n",
       "      <th>1</th>\n",
       "      <td>duration</td>\n",
       "      <td>float64</td>\n",
       "      <td>812</td>\n",
       "      <td>[5.0, 0.5, 18.0, 0.0, 1.0]</td>\n",
       "      <td>1</td>\n",
       "      <td>0</td>\n",
       "    </tr>\n",
       "    <tr>\n",
       "      <th>2</th>\n",
       "      <td>student_response</td>\n",
       "      <td>object</td>\n",
       "      <td>4</td>\n",
       "      <td>[ATTEMPT, VIDEO_ACTION, HINT_REQUEST, AUDIO_AC...</td>\n",
       "      <td>0</td>\n",
       "      <td>1</td>\n",
       "    </tr>\n",
       "    <tr>\n",
       "      <th>3</th>\n",
       "      <td>tutor_response</td>\n",
       "      <td>object</td>\n",
       "      <td>2</td>\n",
       "      <td>[RESULT, nan, HINT_MSG]</td>\n",
       "      <td>0</td>\n",
       "      <td>1</td>\n",
       "    </tr>\n",
       "    <tr>\n",
       "      <th>4</th>\n",
       "      <td>attempt</td>\n",
       "      <td>float64</td>\n",
       "      <td>119</td>\n",
       "      <td>[1.0, nan, 2.0, 3.0, 4.0]</td>\n",
       "      <td>1</td>\n",
       "      <td>0</td>\n",
       "    </tr>\n",
       "    <tr>\n",
       "      <th>5</th>\n",
       "      <td>last_attempt</td>\n",
       "      <td>float64</td>\n",
       "      <td>2</td>\n",
       "      <td>[1.0, nan, 0.0]</td>\n",
       "      <td>1</td>\n",
       "      <td>0</td>\n",
       "    </tr>\n",
       "    <tr>\n",
       "      <th>6</th>\n",
       "      <td>outcome</td>\n",
       "      <td>object</td>\n",
       "      <td>3</td>\n",
       "      <td>[CORRECT, nan, HINT, INCORRECT]</td>\n",
       "      <td>0</td>\n",
       "      <td>1</td>\n",
       "    </tr>\n",
       "    <tr>\n",
       "      <th>7</th>\n",
       "      <td>help_level</td>\n",
       "      <td>float64</td>\n",
       "      <td>3</td>\n",
       "      <td>[nan, 1.0, 2.0, 3.0]</td>\n",
       "      <td>1</td>\n",
       "      <td>0</td>\n",
       "    </tr>\n",
       "    <tr>\n",
       "      <th>8</th>\n",
       "      <td>hints</td>\n",
       "      <td>float64</td>\n",
       "      <td>1</td>\n",
       "      <td>[nan, 3.0]</td>\n",
       "      <td>1</td>\n",
       "      <td>0</td>\n",
       "    </tr>\n",
       "    <tr>\n",
       "      <th>9</th>\n",
       "      <td>step</td>\n",
       "      <td>object</td>\n",
       "      <td>849</td>\n",
       "      <td>[KC60, nan, KC98, KC716, KC355]</td>\n",
       "      <td>0</td>\n",
       "      <td>1</td>\n",
       "    </tr>\n",
       "  </tbody>\n",
       "</table>\n",
       "</div>"
      ],
      "text/plain": [
       "            feature     type  unique_values  \\\n",
       "0        session_id   object           3655   \n",
       "1          duration  float64            812   \n",
       "2  student_response   object              4   \n",
       "3    tutor_response   object              2   \n",
       "4           attempt  float64            119   \n",
       "5      last_attempt  float64              2   \n",
       "6           outcome   object              3   \n",
       "7        help_level  float64              3   \n",
       "8             hints  float64              1   \n",
       "9              step   object            849   \n",
       "\n",
       "                                     unique_examples  number  categorical  \n",
       "0  [ec2139a880020c6801caba5cbbaa0dc4, f409b555800...       0            1  \n",
       "1                         [5.0, 0.5, 18.0, 0.0, 1.0]       1            0  \n",
       "2  [ATTEMPT, VIDEO_ACTION, HINT_REQUEST, AUDIO_AC...       0            1  \n",
       "3                            [RESULT, nan, HINT_MSG]       0            1  \n",
       "4                          [1.0, nan, 2.0, 3.0, 4.0]       1            0  \n",
       "5                                    [1.0, nan, 0.0]       1            0  \n",
       "6                    [CORRECT, nan, HINT, INCORRECT]       0            1  \n",
       "7                               [nan, 1.0, 2.0, 3.0]       1            0  \n",
       "8                                         [nan, 3.0]       1            0  \n",
       "9                    [KC60, nan, KC98, KC716, KC355]       0            1  "
      ]
     },
     "execution_count": 422,
     "metadata": {},
     "output_type": "execute_result"
    }
   ],
   "source": [
    "# create list with all features and their types\n",
    "list_of_features_and_types = []\n",
    "all_features = list(df)\n",
    "for item in all_features:\n",
    "    list_of_features_and_types.append([item, str(df[item].dtype)])\n",
    "\n",
    "# create dataframe with feature and type\n",
    "types = pd.DataFrame.from_records(list_of_features_and_types)\n",
    "types.columns = ['feature', 'type']\n",
    "\n",
    "# create new columns for cat vs num\n",
    "types['unique_values'] = types['feature'].apply(lambda x: df[x].nunique())\n",
    "types['unique_examples'] = types['feature'].apply(lambda x: df[x].unique()[:5])\n",
    "types['number'] = np.where(types.type.str.contains('int|float'), 1, 0)\n",
    "types['categorical'] = np.where((types.number == 0), 1, 0)\n",
    "\n",
    "print('Number of features:', len(all_features))\n",
    "\n",
    "types"
   ]
  },
  {
   "cell_type": "code",
   "execution_count": 423,
   "id": "ab5ea0c3-4988-4138-8f90-54bc8429c671",
   "metadata": {},
   "outputs": [],
   "source": [
    "feature_numerical = list(types[(types.feature.isin(all_features)) & (types.number == 1)].feature.unique())\n",
    "\n",
    "feature_categorical = list(types[(types.feature.isin(all_features)) & (types.categorical == 1)].feature.unique())"
   ]
  },
  {
   "cell_type": "code",
   "execution_count": 424,
   "id": "119954de-31e9-4fd1-a30d-7070deda0405",
   "metadata": {},
   "outputs": [
    {
     "name": "stdout",
     "output_type": "stream",
     "text": [
      "NUMERICAL:\n",
      "duration : 0 : 2.221614491172911\n",
      "attempt : 686676 : 3.630983740937343\n",
      "last_attempt : 686676 : 0.4935496963860791\n",
      "help_level : 806774 : 1.6806480648064805\n",
      "hints : 806774 : 3.0\n"
     ]
    }
   ],
   "source": [
    "print('NUMERICAL:')\n",
    "for item in feature_numerical:\n",
    "    print(item, ':', df[item].isna().sum(), ':', df[item].mean())\n",
    "    df[item] = df[item].fillna(0) # this row for 0 as missing value"
   ]
  },
  {
   "cell_type": "code",
   "execution_count": 425,
   "id": "6cf665f8-3e9d-4e47-a591-914891b94908",
   "metadata": {},
   "outputs": [
    {
     "name": "stdout",
     "output_type": "stream",
     "text": [
      "CATEGORICAL:\n",
      "session_id : 0 : missing\n",
      "student_response : 0 : missing\n",
      "tutor_response : 686676 : missing\n",
      "outcome : 686676 : missing\n",
      "step : 686708 : missing\n"
     ]
    }
   ],
   "source": [
    "print('CATEGORICAL:')\n",
    "for item in feature_categorical:\n",
    "    print(item, ':', df[item].isna().sum(), ':', 'missing')\n",
    "    df[item] = df[item].fillna('missing')"
   ]
  },
  {
   "cell_type": "code",
   "execution_count": 426,
   "id": "19bcead7-6313-4be4-966a-e57ef98dbcfe",
   "metadata": {},
   "outputs": [
    {
     "name": "stdout",
     "output_type": "stream",
     "text": [
      "<class 'pandas.core.frame.DataFrame'>\n",
      "RangeIndex: 812329 entries, 0 to 812328\n",
      "Data columns (total 10 columns):\n",
      " #   Column            Non-Null Count   Dtype  \n",
      "---  ------            --------------   -----  \n",
      " 0   session_id        812329 non-null  object \n",
      " 1   duration          812329 non-null  float64\n",
      " 2   student_response  812329 non-null  object \n",
      " 3   tutor_response    812329 non-null  object \n",
      " 4   attempt           812329 non-null  float64\n",
      " 5   last_attempt      812329 non-null  float64\n",
      " 6   outcome           812329 non-null  object \n",
      " 7   help_level        812329 non-null  float64\n",
      " 8   hints             812329 non-null  float64\n",
      " 9   step              812329 non-null  object \n",
      "dtypes: float64(5), object(5)\n",
      "memory usage: 62.0+ MB\n"
     ]
    }
   ],
   "source": [
    "df.info()"
   ]
  },
  {
   "cell_type": "code",
   "execution_count": 427,
   "id": "4d50ffbc-631b-4036-9eed-e4e932e92071",
   "metadata": {},
   "outputs": [],
   "source": [
    "# setting id to concatenation of sessionid and step\n",
    "df['id'] = df['session_id'] + df['step']\n"
   ]
  },
  {
   "cell_type": "code",
   "execution_count": 428,
   "id": "e61e2039-088c-417b-9ed9-b2337d257cde",
   "metadata": {},
   "outputs": [
    {
     "data": {
      "text/html": [
       "<div>\n",
       "<style scoped>\n",
       "    .dataframe tbody tr th:only-of-type {\n",
       "        vertical-align: middle;\n",
       "    }\n",
       "\n",
       "    .dataframe tbody tr th {\n",
       "        vertical-align: top;\n",
       "    }\n",
       "\n",
       "    .dataframe thead th {\n",
       "        text-align: right;\n",
       "    }\n",
       "</style>\n",
       "<table border=\"1\" class=\"dataframe\">\n",
       "  <thead>\n",
       "    <tr style=\"text-align: right;\">\n",
       "      <th></th>\n",
       "      <th>session_id</th>\n",
       "      <th>duration</th>\n",
       "      <th>student_response</th>\n",
       "      <th>tutor_response</th>\n",
       "      <th>attempt</th>\n",
       "      <th>last_attempt</th>\n",
       "      <th>outcome</th>\n",
       "      <th>help_level</th>\n",
       "      <th>hints</th>\n",
       "      <th>step</th>\n",
       "      <th>id</th>\n",
       "    </tr>\n",
       "  </thead>\n",
       "  <tbody>\n",
       "    <tr>\n",
       "      <th>0</th>\n",
       "      <td>ec2139a880020c6801caba5cbbaa0dc4</td>\n",
       "      <td>5.0</td>\n",
       "      <td>ATTEMPT</td>\n",
       "      <td>RESULT</td>\n",
       "      <td>1.0</td>\n",
       "      <td>1.0</td>\n",
       "      <td>CORRECT</td>\n",
       "      <td>0.0</td>\n",
       "      <td>0.0</td>\n",
       "      <td>KC60</td>\n",
       "      <td>ec2139a880020c6801caba5cbbaa0dc4KC60</td>\n",
       "    </tr>\n",
       "    <tr>\n",
       "      <th>1</th>\n",
       "      <td>ec2139a880020c6801caba5cbbaa0dc4</td>\n",
       "      <td>0.5</td>\n",
       "      <td>VIDEO_ACTION</td>\n",
       "      <td>missing</td>\n",
       "      <td>0.0</td>\n",
       "      <td>0.0</td>\n",
       "      <td>missing</td>\n",
       "      <td>0.0</td>\n",
       "      <td>0.0</td>\n",
       "      <td>missing</td>\n",
       "      <td>ec2139a880020c6801caba5cbbaa0dc4missing</td>\n",
       "    </tr>\n",
       "    <tr>\n",
       "      <th>2</th>\n",
       "      <td>ec2139a880020c6801caba5cbbaa0dc4</td>\n",
       "      <td>0.5</td>\n",
       "      <td>VIDEO_ACTION</td>\n",
       "      <td>missing</td>\n",
       "      <td>0.0</td>\n",
       "      <td>0.0</td>\n",
       "      <td>missing</td>\n",
       "      <td>0.0</td>\n",
       "      <td>0.0</td>\n",
       "      <td>missing</td>\n",
       "      <td>ec2139a880020c6801caba5cbbaa0dc4missing</td>\n",
       "    </tr>\n",
       "    <tr>\n",
       "      <th>3</th>\n",
       "      <td>f409b55580020c6801bbb41756dbadb4</td>\n",
       "      <td>0.5</td>\n",
       "      <td>VIDEO_ACTION</td>\n",
       "      <td>missing</td>\n",
       "      <td>0.0</td>\n",
       "      <td>0.0</td>\n",
       "      <td>missing</td>\n",
       "      <td>0.0</td>\n",
       "      <td>0.0</td>\n",
       "      <td>missing</td>\n",
       "      <td>f409b55580020c6801bbb41756dbadb4missing</td>\n",
       "    </tr>\n",
       "    <tr>\n",
       "      <th>4</th>\n",
       "      <td>f409b55580020c6801bbb41756dbadb4</td>\n",
       "      <td>0.5</td>\n",
       "      <td>VIDEO_ACTION</td>\n",
       "      <td>missing</td>\n",
       "      <td>0.0</td>\n",
       "      <td>0.0</td>\n",
       "      <td>missing</td>\n",
       "      <td>0.0</td>\n",
       "      <td>0.0</td>\n",
       "      <td>missing</td>\n",
       "      <td>f409b55580020c6801bbb41756dbadb4missing</td>\n",
       "    </tr>\n",
       "  </tbody>\n",
       "</table>\n",
       "</div>"
      ],
      "text/plain": [
       "                         session_id  duration student_response tutor_response  \\\n",
       "0  ec2139a880020c6801caba5cbbaa0dc4       5.0          ATTEMPT         RESULT   \n",
       "1  ec2139a880020c6801caba5cbbaa0dc4       0.5     VIDEO_ACTION        missing   \n",
       "2  ec2139a880020c6801caba5cbbaa0dc4       0.5     VIDEO_ACTION        missing   \n",
       "3  f409b55580020c6801bbb41756dbadb4       0.5     VIDEO_ACTION        missing   \n",
       "4  f409b55580020c6801bbb41756dbadb4       0.5     VIDEO_ACTION        missing   \n",
       "\n",
       "   attempt  last_attempt  outcome  help_level  hints     step  \\\n",
       "0      1.0           1.0  CORRECT         0.0    0.0     KC60   \n",
       "1      0.0           0.0  missing         0.0    0.0  missing   \n",
       "2      0.0           0.0  missing         0.0    0.0  missing   \n",
       "3      0.0           0.0  missing         0.0    0.0  missing   \n",
       "4      0.0           0.0  missing         0.0    0.0  missing   \n",
       "\n",
       "                                        id  \n",
       "0     ec2139a880020c6801caba5cbbaa0dc4KC60  \n",
       "1  ec2139a880020c6801caba5cbbaa0dc4missing  \n",
       "2  ec2139a880020c6801caba5cbbaa0dc4missing  \n",
       "3  f409b55580020c6801bbb41756dbadb4missing  \n",
       "4  f409b55580020c6801bbb41756dbadb4missing  "
      ]
     },
     "execution_count": 428,
     "metadata": {},
     "output_type": "execute_result"
    }
   ],
   "source": [
    "df.head()"
   ]
  },
  {
   "cell_type": "code",
   "execution_count": 429,
   "id": "5b14740d-3400-44cf-a58b-320095955867",
   "metadata": {},
   "outputs": [
    {
     "name": "stdout",
     "output_type": "stream",
     "text": [
      "<class 'pandas.core.frame.DataFrame'>\n",
      "RangeIndex: 812329 entries, 0 to 812328\n",
      "Data columns (total 11 columns):\n",
      " #   Column            Non-Null Count   Dtype  \n",
      "---  ------            --------------   -----  \n",
      " 0   session_id        812329 non-null  object \n",
      " 1   duration          812329 non-null  float64\n",
      " 2   student_response  812329 non-null  object \n",
      " 3   tutor_response    812329 non-null  object \n",
      " 4   attempt           812329 non-null  float64\n",
      " 5   last_attempt      812329 non-null  float64\n",
      " 6   outcome           812329 non-null  object \n",
      " 7   help_level        812329 non-null  float64\n",
      " 8   hints             812329 non-null  float64\n",
      " 9   step              812329 non-null  object \n",
      " 10  id                812329 non-null  object \n",
      "dtypes: float64(5), object(6)\n",
      "memory usage: 68.2+ MB\n"
     ]
    }
   ],
   "source": [
    "df.info()\n"
   ]
  },
  {
   "cell_type": "code",
   "execution_count": 430,
   "id": "2efdef50-7319-4712-9374-7ec54f3ec04d",
   "metadata": {},
   "outputs": [
    {
     "data": {
      "text/html": [
       "<div>\n",
       "<style scoped>\n",
       "    .dataframe tbody tr th:only-of-type {\n",
       "        vertical-align: middle;\n",
       "    }\n",
       "\n",
       "    .dataframe tbody tr th {\n",
       "        vertical-align: top;\n",
       "    }\n",
       "\n",
       "    .dataframe thead th {\n",
       "        text-align: right;\n",
       "    }\n",
       "</style>\n",
       "<table border=\"1\" class=\"dataframe\">\n",
       "  <thead>\n",
       "    <tr style=\"text-align: right;\">\n",
       "      <th></th>\n",
       "      <th>id</th>\n",
       "      <th>duration</th>\n",
       "      <th>correct_count</th>\n",
       "      <th>correct</th>\n",
       "      <th>incorrect</th>\n",
       "      <th>attempts</th>\n",
       "      <th>correct_share</th>\n",
       "      <th>hints</th>\n",
       "      <th>help</th>\n",
       "    </tr>\n",
       "  </thead>\n",
       "  <tbody>\n",
       "    <tr>\n",
       "      <th>0</th>\n",
       "      <td>000f5ff880020c6801167a0d4de3a10aKC153</td>\n",
       "      <td>20.0</td>\n",
       "      <td>3</td>\n",
       "      <td>1</td>\n",
       "      <td>4</td>\n",
       "      <td>7</td>\n",
       "      <td>0.43</td>\n",
       "      <td>0.0</td>\n",
       "      <td>0.0</td>\n",
       "    </tr>\n",
       "    <tr>\n",
       "      <th>1</th>\n",
       "      <td>000f5ff880020c6801167a0d4de3a10aKC202</td>\n",
       "      <td>2.0</td>\n",
       "      <td>1</td>\n",
       "      <td>1</td>\n",
       "      <td>0</td>\n",
       "      <td>1</td>\n",
       "      <td>1.00</td>\n",
       "      <td>0.0</td>\n",
       "      <td>0.0</td>\n",
       "    </tr>\n",
       "    <tr>\n",
       "      <th>2</th>\n",
       "      <td>000f5ff880020c6801167a0d4de3a10aKC225</td>\n",
       "      <td>5.0</td>\n",
       "      <td>1</td>\n",
       "      <td>1</td>\n",
       "      <td>0</td>\n",
       "      <td>1</td>\n",
       "      <td>1.00</td>\n",
       "      <td>0.0</td>\n",
       "      <td>0.0</td>\n",
       "    </tr>\n",
       "    <tr>\n",
       "      <th>3</th>\n",
       "      <td>000f5ff880020c6801167a0d4de3a10aKC411</td>\n",
       "      <td>3.0</td>\n",
       "      <td>1</td>\n",
       "      <td>1</td>\n",
       "      <td>0</td>\n",
       "      <td>1</td>\n",
       "      <td>1.00</td>\n",
       "      <td>0.0</td>\n",
       "      <td>0.0</td>\n",
       "    </tr>\n",
       "    <tr>\n",
       "      <th>4</th>\n",
       "      <td>000f5ff880020c6801167a0d4de3a10aKC442</td>\n",
       "      <td>12.0</td>\n",
       "      <td>2</td>\n",
       "      <td>1</td>\n",
       "      <td>0</td>\n",
       "      <td>2</td>\n",
       "      <td>1.00</td>\n",
       "      <td>0.0</td>\n",
       "      <td>0.0</td>\n",
       "    </tr>\n",
       "  </tbody>\n",
       "</table>\n",
       "</div>"
      ],
      "text/plain": [
       "                                      id  duration  correct_count  correct  \\\n",
       "0  000f5ff880020c6801167a0d4de3a10aKC153      20.0              3        1   \n",
       "1  000f5ff880020c6801167a0d4de3a10aKC202       2.0              1        1   \n",
       "2  000f5ff880020c6801167a0d4de3a10aKC225       5.0              1        1   \n",
       "3  000f5ff880020c6801167a0d4de3a10aKC411       3.0              1        1   \n",
       "4  000f5ff880020c6801167a0d4de3a10aKC442      12.0              2        1   \n",
       "\n",
       "   incorrect  attempts  correct_share  hints  help  \n",
       "0          4         7           0.43    0.0   0.0  \n",
       "1          0         1           1.00    0.0   0.0  \n",
       "2          0         1           1.00    0.0   0.0  \n",
       "3          0         1           1.00    0.0   0.0  \n",
       "4          0         2           1.00    0.0   0.0  "
      ]
     },
     "execution_count": 430,
     "metadata": {},
     "output_type": "execute_result"
    }
   ],
   "source": [
    "# Creating a new dataframe with aggregated columns regarding attempts and results\n",
    "query = \"\"\"\n",
    "SELECT \n",
    "    id\n",
    "    , SUM(duration) AS duration\n",
    "    , SUM(CASE WHEN outcome = 'CORRECT' THEN 1 ELSE 0 END) AS correct_count\n",
    "    , CASE WHEN SUM(CASE WHEN outcome = 'CORRECT' THEN 1 ELSE 0 END) > 0 THEN 1 ELSE 0 END AS correct\n",
    "    , SUM(CASE WHEN outcome = 'INCORRECT' THEN 1 ELSE 0 END) AS incorrect\n",
    "    , SUM(CASE WHEN student_response = 'ATTEMPT' THEN 1 ELSE 0 END) AS attempts\n",
    "    , ROUND(1.0 * SUM(CASE WHEN outcome = 'CORRECT' THEN 1 ELSE 0 END)/SUM(CASE WHEN student_response = 'ATTEMPT' THEN 1 ELSE 0 END), 2) AS correct_share\n",
    "    , MAX(hints) AS hints\n",
    "    , MAX(help_level) AS help\n",
    "FROM \n",
    "    df \n",
    "GROUP BY \n",
    "    id\n",
    "\"\"\"\n",
    "\n",
    "\n",
    "df_clean = sqldf(query, env=None)\n",
    "\n",
    "df_clean.head()"
   ]
  },
  {
   "cell_type": "code",
   "execution_count": 431,
   "id": "46244a59-aacf-48bf-a129-a02d6cee0fad",
   "metadata": {},
   "outputs": [
    {
     "data": {
      "text/plain": [
       "help\n",
       "0.0    70838\n",
       "1.0      661\n",
       "2.0      179\n",
       "3.0      742\n",
       "Name: help, dtype: int64"
      ]
     },
     "execution_count": 431,
     "metadata": {},
     "output_type": "execute_result"
    }
   ],
   "source": [
    "df_clean.groupby(['help'])['help'].count()"
   ]
  },
  {
   "cell_type": "code",
   "execution_count": 432,
   "id": "3b10b3b6-b56e-42f9-a167-0f8744ea94fc",
   "metadata": {},
   "outputs": [
    {
     "data": {
      "text/plain": [
       "hints\n",
       "0.0    70838\n",
       "3.0     1582\n",
       "Name: hints, dtype: int64"
      ]
     },
     "execution_count": 432,
     "metadata": {},
     "output_type": "execute_result"
    }
   ],
   "source": [
    "df_clean.groupby(['hints'])['hints'].count()\n"
   ]
  },
  {
   "cell_type": "markdown",
   "id": "5af05953-7faa-4a46-b8a3-b83bc446ffaa",
   "metadata": {},
   "source": [
    "### Observation\n",
    "Very few records with values above 0 for these features. \n",
    "\n",
    "### Action\n",
    "They will be kept, but results may be hard to interpret in the explanatory phase."
   ]
  },
  {
   "cell_type": "code",
   "execution_count": 434,
   "id": "c4f302d0-51b3-4377-9e7b-a9e6c0386423",
   "metadata": {},
   "outputs": [
    {
     "name": "stdout",
     "output_type": "stream",
     "text": [
      "<class 'pandas.core.frame.DataFrame'>\n",
      "RangeIndex: 72420 entries, 0 to 72419\n",
      "Data columns (total 9 columns):\n",
      " #   Column         Non-Null Count  Dtype  \n",
      "---  ------         --------------  -----  \n",
      " 0   id             72420 non-null  object \n",
      " 1   duration       72420 non-null  float64\n",
      " 2   correct_count  72420 non-null  int64  \n",
      " 3   correct        72420 non-null  int64  \n",
      " 4   incorrect      72420 non-null  int64  \n",
      " 5   attempts       72420 non-null  int64  \n",
      " 6   correct_share  68851 non-null  float64\n",
      " 7   hints          72420 non-null  float64\n",
      " 8   help           72420 non-null  float64\n",
      "dtypes: float64(4), int64(4), object(1)\n",
      "memory usage: 5.0+ MB\n"
     ]
    }
   ],
   "source": [
    "df_clean.info()"
   ]
  },
  {
   "cell_type": "markdown",
   "id": "153ba7d5-ff26-4b9b-bec2-5b704d98eaa7",
   "metadata": {},
   "source": [
    "### Observation\n",
    "Some null records for correct_share indicating that no attempt was made by the student. \n",
    "\n",
    "### Action\n",
    "Remove these records and make id index column"
   ]
  },
  {
   "cell_type": "code",
   "execution_count": 436,
   "id": "d78a0482-4966-4c20-a54e-cf0346b6548c",
   "metadata": {},
   "outputs": [],
   "source": [
    "df_clean.dropna(subset=['correct_share'], inplace=True)\n"
   ]
  },
  {
   "cell_type": "code",
   "execution_count": 437,
   "id": "7ece769f-6c9e-4aa2-a42c-969c180d7dd2",
   "metadata": {},
   "outputs": [],
   "source": [
    "# Setting 'id' to index as it is a unique identifier.\n",
    "df_clean.set_index('id', inplace=True)"
   ]
  },
  {
   "cell_type": "code",
   "execution_count": 438,
   "id": "12409d45-9309-4fcc-b7a8-a6fc9ef8319a",
   "metadata": {},
   "outputs": [
    {
     "name": "stdout",
     "output_type": "stream",
     "text": [
      "<class 'pandas.core.frame.DataFrame'>\n",
      "Index: 68851 entries, 000f5ff880020c6801167a0d4de3a10aKC153 to ffec04cf80020c6801245b3c52443382KC843\n",
      "Data columns (total 8 columns):\n",
      " #   Column         Non-Null Count  Dtype  \n",
      "---  ------         --------------  -----  \n",
      " 0   duration       68851 non-null  float64\n",
      " 1   correct_count  68851 non-null  int64  \n",
      " 2   correct        68851 non-null  int64  \n",
      " 3   incorrect      68851 non-null  int64  \n",
      " 4   attempts       68851 non-null  int64  \n",
      " 5   correct_share  68851 non-null  float64\n",
      " 6   hints          68851 non-null  float64\n",
      " 7   help           68851 non-null  float64\n",
      "dtypes: float64(4), int64(4)\n",
      "memory usage: 4.7+ MB\n"
     ]
    }
   ],
   "source": [
    "df_clean.info()"
   ]
  },
  {
   "cell_type": "code",
   "execution_count": 439,
   "id": "97b869e6-6ab7-403d-9609-1ddd2a4a4dd3",
   "metadata": {},
   "outputs": [
    {
     "data": {
      "text/plain": [
       "correct\n",
       "0      822\n",
       "1    68029\n",
       "Name: correct, dtype: int64"
      ]
     },
     "execution_count": 439,
     "metadata": {},
     "output_type": "execute_result"
    }
   ],
   "source": [
    "df_clean.groupby(['correct'])['correct'].count()"
   ]
  },
  {
   "cell_type": "markdown",
   "id": "894d387e-c445-45f5-a37a-f360cae8f8b6",
   "metadata": {},
   "source": [
    "### Observation\n",
    "Just above one percent of steps resulted in no correct answer. \n",
    "\n",
    "### Action\n",
    "No machinelearning model will be built here so the data will not be balanced."
   ]
  },
  {
   "cell_type": "code",
   "execution_count": 441,
   "id": "de9435c8-ae49-41a2-9d8a-dac3b33130d4",
   "metadata": {},
   "outputs": [],
   "source": [
    "df_clean.to_csv('data/chinese_students_cleaned.csv')"
   ]
  },
  {
   "cell_type": "markdown",
   "id": "1302eaa8-f9ca-42f8-9f20-3ce5c4baae31",
   "metadata": {},
   "source": [
    "# Explanatory phase\n",
    "- Where all four hypotheses will be tested."
   ]
  },
  {
   "cell_type": "markdown",
   "id": "945d136e-8145-494f-a308-c5e492356ae5",
   "metadata": {},
   "source": [
    "# Questions\n",
    "- How does the following factors affect the chance of getting at least one correct answer:\n",
    "- number of attempts\n",
    "- level of help\n",
    "- time spent\n",
    "- number of incorrect attempts\n"
   ]
  },
  {
   "cell_type": "code",
   "execution_count": 444,
   "id": "3923c279-ee34-418f-9c8d-ab2ef54a6257",
   "metadata": {},
   "outputs": [],
   "source": [
    "# moving column 'correct' to first position in order to make a clear correlation matrix\n",
    "column_to_move = df_clean.pop(\"correct\")\n",
    "\n",
    "df_clean.insert(0, \"correct\", column_to_move)"
   ]
  },
  {
   "cell_type": "code",
   "execution_count": 445,
   "id": "96077788-81bf-4ccd-bd05-37f4225da1af",
   "metadata": {},
   "outputs": [
    {
     "name": "stdout",
     "output_type": "stream",
     "text": [
      "C:\\Users\\fales\\Dropbox\\Studier\\Python\\Data_scientist_nd\\course_2\\datascience_blogpost\\result\n"
     ]
    },
    {
     "data": {
      "image/png": "[encoded data removed]",
      "text/plain": [
       "<Figure size 640x480 with 1 Axes>"
      ]
     },
     "metadata": {},
     "output_type": "display_data"
    }
   ],
   "source": [
    "os.chdir('result')\n",
    "print(os.getcwd())\n",
    "\n",
    "# Creating a dataframe with columns where we want to see correlation.\n",
    "df_clean_corr = df_clean[['correct', 'duration', 'incorrect', 'attempts', 'help']]\n",
    "cols_list = list(df_clean_corr.columns)\n",
    "\n",
    "# Plot and save correaltion matrix.\n",
    "fig, ax = plt.subplots()\n",
    "sns.heatmap(df_clean_corr.corr(method='pearson'), annot=True, fmt='.4f', \n",
    "            cmap=plt.get_cmap('coolwarm'), cbar=False, ax=ax)\n",
    "ax.xaxis.tick_top()\n",
    "ax.set_yticklabels(ax.get_yticklabels(), rotation=\"horizontal\")\n",
    "plt.savefig('result.png', bbox_inches='tight', pad_inches=0.0)"
   ]
  },
  {
   "cell_type": "code",
   "execution_count": 446,
   "id": "e696c14c-f97e-44a7-b1c3-fb3b98bc416e",
   "metadata": {},
   "outputs": [
    {
     "data": {
      "text/html": [
       "<div>\n",
       "<style scoped>\n",
       "    .dataframe tbody tr th:only-of-type {\n",
       "        vertical-align: middle;\n",
       "    }\n",
       "\n",
       "    .dataframe tbody tr th {\n",
       "        vertical-align: top;\n",
       "    }\n",
       "\n",
       "    .dataframe thead th {\n",
       "        text-align: right;\n",
       "    }\n",
       "</style>\n",
       "<table border=\"1\" class=\"dataframe\">\n",
       "  <thead>\n",
       "    <tr style=\"text-align: right;\">\n",
       "      <th></th>\n",
       "      <th>duration</th>\n",
       "      <th>incorrect</th>\n",
       "      <th>attempts</th>\n",
       "      <th>help</th>\n",
       "    </tr>\n",
       "    <tr>\n",
       "      <th>correct</th>\n",
       "      <th></th>\n",
       "      <th></th>\n",
       "      <th></th>\n",
       "      <th></th>\n",
       "    </tr>\n",
       "  </thead>\n",
       "  <tbody>\n",
       "    <tr>\n",
       "      <th>0</th>\n",
       "      <td>149.26</td>\n",
       "      <td>7.07</td>\n",
       "      <td>9.53</td>\n",
       "      <td>0.63</td>\n",
       "    </tr>\n",
       "    <tr>\n",
       "      <th>1</th>\n",
       "      <td>10.53</td>\n",
       "      <td>0.65</td>\n",
       "      <td>1.68</td>\n",
       "      <td>0.04</td>\n",
       "    </tr>\n",
       "  </tbody>\n",
       "</table>\n",
       "</div>"
      ],
      "text/plain": [
       "         duration  incorrect  attempts  help\n",
       "correct                                     \n",
       "0          149.26       7.07      9.53  0.63\n",
       "1           10.53       0.65      1.68  0.04"
      ]
     },
     "execution_count": 446,
     "metadata": {},
     "output_type": "execute_result"
    }
   ],
   "source": [
    "df_clean_corr.groupby('correct').mean().round(2)"
   ]
  },
  {
   "cell_type": "markdown",
   "id": "e711d112-0012-4c9b-8f02-7b61290c37ef",
   "metadata": {},
   "source": [
    "### Observation\n",
    "\n",
    "The correlation with correct answer is negative for all the features.\n",
    "\n",
    "### Action\n",
    "The findings will be described more fully in bivariate graphs."
   ]
  },
  {
   "cell_type": "code",
   "execution_count": 448,
   "id": "bece98c9-7b22-4d48-b617-3240470493b0",
   "metadata": {},
   "outputs": [
    {
     "data": {
      "image/png": "[encoded data removed]",
      "text/plain": [
       "<Figure size 640x480 with 1 Axes>"
      ]
     },
     "metadata": {},
     "output_type": "display_data"
    },
    {
     "data": {
      "image/png": "[encoded data removed]",
      "text/plain": [
       "<Figure size 640x480 with 1 Axes>"
      ]
     },
     "metadata": {},
     "output_type": "display_data"
    },
    {
     "data": {
      "image/png": "[encoded data removed]",
      "text/plain": [
       "<Figure size 640x480 with 1 Axes>"
      ]
     },
     "metadata": {},
     "output_type": "display_data"
    },
    {
     "data": {
      "image/png": "[encoded data removed]",
      "text/plain": [
       "<Figure size 640x480 with 1 Axes>"
      ]
     },
     "metadata": {},
     "output_type": "display_data"
    }
   ],
   "source": [
    "cols_list = ['duration', 'incorrect', 'attempts', 'help']\n",
    "\n",
    "for item in cols_list:\n",
    "    df_clean_corr.groupby('correct')[item].mean().plot.bar()\n",
    "    plt.title(f'Average value of {item}')\n",
    "    plt.ylabel(item)\n",
    "    plt.xlabel('At least one correct answer')\n",
    "    plt.savefig(item)\n",
    "    plt.show()"
   ]
  },
  {
   "cell_type": "code",
   "execution_count": 449,
   "id": "75a52134-dc06-4559-8f87-c809bf214f9a",
   "metadata": {},
   "outputs": [
    {
     "name": "stdout",
     "output_type": "stream",
     "text": [
      "C:\\Users\\fales\\Dropbox\\Studier\\Python\\Data_scientist_nd\\course_2\\datascience_blogpost\\result\n"
     ]
    }
   ],
   "source": [
    "print(os.getcwd())"
   ]
  },
  {
   "cell_type": "code",
   "execution_count": 450,
   "id": "69786106-884a-45eb-b702-5515b6ce1eaa",
   "metadata": {},
   "outputs": [],
   "source": [
    "os.chdir('..')"
   ]
  },
  {
   "cell_type": "code",
   "execution_count": 451,
   "id": "6bbcd177-c657-425f-bb30-50070fa06432",
   "metadata": {},
   "outputs": [
    {
     "name": "stdout",
     "output_type": "stream",
     "text": [
      "C:\\Users\\fales\\Dropbox\\Studier\\Python\\Data_scientist_nd\\course_2\\datascience_blogpost\n"
     ]
    }
   ],
   "source": [
    "print(os.getcwd())"
   ]
  },
  {
   "cell_type": "code",
   "execution_count": null,
   "id": "b885c4f4-f6be-42e6-9b36-9ca49976a1d5",
   "metadata": {},
   "outputs": [],
   "source": []
  }
 ],
 "metadata": {
  "kernelspec": {
   "display_name": "Python 3 (ipykernel)",
   "language": "python",
   "name": "python3"
  },
  "language_info": {
   "codemirror_mode": {
    "name": "ipython",
    "version": 3
   },
   "file_extension": ".py",
   "mimetype": "text/x-python",
   "name": "python",
   "nbconvert_exporter": "python",
   "pygments_lexer": "ipython3",
   "version": "3.12.3"
  }
 },
 "nbformat": 4,
 "nbformat_minor": 5
}
